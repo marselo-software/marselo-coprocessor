{
  "nbformat": 4,
  "nbformat_minor": 0,
  "metadata": {
    "colab": {
      "provenance": []
    },
    "kernelspec": {
      "name": "python3",
      "display_name": "Python 3"
    },
    "language_info": {
      "name": "python"
    }
  },
  "cells": [
    {
      "cell_type": "markdown",
      "source": [
        "# Marselo Software"
      ],
      "metadata": {
        "id": "ZWVK0Hrqe-A8"
      }
    },
    {
      "cell_type": "markdown",
      "source": [
        "### **MVP Overview and Future Vision**  \n",
        "\n",
        "This project is currently in its **MVP (Minimum Viable Product)** stage, focusing on retrieving blockchain data using the Remix development network. The initial goal is to gather key on-chain metrics and understand how data can be extracted directly from the Ethereum network.  \n",
        "\n",
        "### **Future Integration with Swaps for Token Insights**  \n",
        "\n",
        "In the next phase, the idea is to **integrate decentralized exchanges (DEXs) and swaps** to retrieve real-time information about the most famous tokens in the Ethereum network. By leveraging DEX liquidity pools and price oracles, the system will be able to track token prices, volume, and liquidity movements dynamically.  \n",
        "\n",
        "### **Evolution into an AI-Driven Agent**  \n",
        "\n",
        "The long-term goal is to transform this system into an **AI-powered agent** capable of analyzing blockchain data, identifying trends, and providing intelligent insights. This AI agent will not only fetch token data but also detect patterns, predict market movements, and assist users in decision-making based on on-chain activity.  \n",
        "\n",
        "By combining **blockchain analytics, decentralized finance (DeFi) data, and AI capabilities**, this project aims to create an advanced solution for token tracking and market intelligence in the Ethereum ecosystem."
      ],
      "metadata": {
        "id": "oTKYbqtwfCfX"
      }
    },
    {
      "cell_type": "markdown",
      "source": [
        "## Imports"
      ],
      "metadata": {
        "id": "fViklLAhfA1w"
      }
    },
    {
      "cell_type": "code",
      "execution_count": null,
      "metadata": {
        "id": "gh9Gd-q6a3au"
      },
      "outputs": [],
      "source": [
        "import json\n",
        "import pandas as pd\n",
        "import matplotlib.pyplot as plt\n",
        "import seaborn as sns\n",
        "import plotly.graph_objs as go\n",
        "import plotly.express as px\n",
        "\n",
        "from statsmodels.tsa.arima.model import ARIMA\n",
        "from sklearn.model_selection import train_test_split\n",
        "from sklearn.metrics import mean_absolute_error"
      ]
    },
    {
      "cell_type": "markdown",
      "source": [
        "## Exploratory"
      ],
      "metadata": {
        "id": "SgKkY8_lfIn4"
      }
    },
    {
      "cell_type": "code",
      "source": [
        "import json\n",
        "\n",
        "json_data = '''{\n",
        "  \"call\": {\n",
        "    \"from\": \"0x5B38Da6a701c568545dCfcB03FcB875f56beddC4\",\n",
        "    \"to\": \"OnChainDataFetcher.getAllData(address)\",\n",
        "    \"data\": \"0x67e...878ef\",\n",
        "    \"execution_cost\": \"5440 gas\",\n",
        "    \"input\": {\n",
        "      \"address_account\": \"0x6090A6e47849629b7245Dfa1Ca21D94cd15878Ef\"\n",
        "    },\n",
        "    \"output\": {\n",
        "      \"blockTime\": 1739633935,\n",
        "      \"balance\": 0,\n",
        "      \"gasPrice\": 2,\n",
        "      \"difficulty\": 0,\n",
        "      \"baseFee\": 1,\n",
        "      \"gasLimit\": 3000000,\n",
        "      \"blockHash\": \"0x2e80d0a115d7ef67f234405512ef5694c0e6bf7a61c7788fc8c7aa0f07c5dd4b\",\n",
        "      \"miner\": \"0x8945A1288dc78A6D8952a92C77aEe6730B414778\",\n",
        "      \"txOrigin\": \"0x5B38Da6a701c568545dCfcB03FcB875f56beddC4\",\n",
        "      \"msgSender\": \"0x5B38Da6a701c568545dCfcB03FcB875f56beddC4\"\n",
        "    },\n",
        "    \"logs\": [],\n",
        "    \"raw_logs\": []\n",
        "  },\n",
        "  \"functions\": {\n",
        "    \"getBlockTimestamp\": {\n",
        "      \"description\": \"Returns the current block timestamp.\",\n",
        "      \"output\": 1739633935\n",
        "    },\n",
        "    \"getBalance\": {\n",
        "      \"description\": \"Returns the balance of the provided account address.\",\n",
        "      \"input\": {\n",
        "        \"accounts\": [\n",
        "          \"0x6090A6e47849629b7245Dfa1Ca21D94cd15878Ef\"\n",
        "        ]\n",
        "      },\n",
        "      \"output\": [\n",
        "        0\n",
        "      ]\n",
        "    },\n",
        "    \"getGasPrice\": {\n",
        "      \"description\": \"Returns the current gas price.\",\n",
        "      \"output\": 2\n",
        "    },\n",
        "    \"getBlockDifficulty\": {\n",
        "      \"description\": \"Returns the difficulty of the current block.\",\n",
        "      \"output\": 0\n",
        "    },\n",
        "    \"getBaseFee\": {\n",
        "      \"description\": \"Returns the base fee of the current block.\",\n",
        "      \"output\": 1\n",
        "    },\n",
        "    \"getBlockGasLimit\": {\n",
        "      \"description\": \"Returns the gas limit of the current block.\",\n",
        "      \"output\": 3000000\n",
        "    },\n",
        "    \"getBlockHash\": {\n",
        "      \"description\": \"Returns the block hash for the given block number.\",\n",
        "      \"input\": {\n",
        "        \"blockNumber\": 1\n",
        "      },\n",
        "      \"output\": \"0x2e80d0a115d7ef67f234405512ef5694c0e6bf7a61c7788fc8c7aa0f07c5dd4b\"\n",
        "    },\n",
        "    \"getBlockMiner\": {\n",
        "      \"description\": \"Returns the miner address of the current block.\",\n",
        "      \"output\": \"0x8945A1288dc78A6D8952a92C77aEe6730B414778\"\n",
        "    }\n",
        "  }\n",
        "}'''\n",
        "\n",
        "data = json.loads(json_data)\n",
        "print(json.dumps(data, indent=2))\n"
      ],
      "metadata": {
        "colab": {
          "base_uri": "https://localhost:8080/"
        },
        "id": "qCQfashKbYRl",
        "outputId": "1a5cb37e-5508-43b1-9264-8488ad8f9b66"
      },
      "execution_count": null,
      "outputs": [
        {
          "output_type": "stream",
          "name": "stdout",
          "text": [
            "{\n",
            "  \"call\": {\n",
            "    \"from\": \"0x5B38Da6a701c568545dCfcB03FcB875f56beddC4\",\n",
            "    \"to\": \"OnChainDataFetcher.getAllData(address)\",\n",
            "    \"data\": \"0x67e...878ef\",\n",
            "    \"execution_cost\": \"5440 gas\",\n",
            "    \"input\": {\n",
            "      \"address_account\": \"0x6090A6e47849629b7245Dfa1Ca21D94cd15878Ef\"\n",
            "    },\n",
            "    \"output\": {\n",
            "      \"blockTime\": 1739633935,\n",
            "      \"balance\": 0,\n",
            "      \"gasPrice\": 2,\n",
            "      \"difficulty\": 0,\n",
            "      \"baseFee\": 1,\n",
            "      \"gasLimit\": 3000000,\n",
            "      \"blockHash\": \"0x2e80d0a115d7ef67f234405512ef5694c0e6bf7a61c7788fc8c7aa0f07c5dd4b\",\n",
            "      \"miner\": \"0x8945A1288dc78A6D8952a92C77aEe6730B414778\",\n",
            "      \"txOrigin\": \"0x5B38Da6a701c568545dCfcB03FcB875f56beddC4\",\n",
            "      \"msgSender\": \"0x5B38Da6a701c568545dCfcB03FcB875f56beddC4\"\n",
            "    },\n",
            "    \"logs\": [],\n",
            "    \"raw_logs\": []\n",
            "  },\n",
            "  \"functions\": {\n",
            "    \"getBlockTimestamp\": {\n",
            "      \"description\": \"Returns the current block timestamp.\",\n",
            "      \"output\": 1739633935\n",
            "    },\n",
            "    \"getBalance\": {\n",
            "      \"description\": \"Returns the balance of the provided account address.\",\n",
            "      \"input\": {\n",
            "        \"accounts\": [\n",
            "          \"0x6090A6e47849629b7245Dfa1Ca21D94cd15878Ef\"\n",
            "        ]\n",
            "      },\n",
            "      \"output\": [\n",
            "        0\n",
            "      ]\n",
            "    },\n",
            "    \"getGasPrice\": {\n",
            "      \"description\": \"Returns the current gas price.\",\n",
            "      \"output\": 2\n",
            "    },\n",
            "    \"getBlockDifficulty\": {\n",
            "      \"description\": \"Returns the difficulty of the current block.\",\n",
            "      \"output\": 0\n",
            "    },\n",
            "    \"getBaseFee\": {\n",
            "      \"description\": \"Returns the base fee of the current block.\",\n",
            "      \"output\": 1\n",
            "    },\n",
            "    \"getBlockGasLimit\": {\n",
            "      \"description\": \"Returns the gas limit of the current block.\",\n",
            "      \"output\": 3000000\n",
            "    },\n",
            "    \"getBlockHash\": {\n",
            "      \"description\": \"Returns the block hash for the given block number.\",\n",
            "      \"input\": {\n",
            "        \"blockNumber\": 1\n",
            "      },\n",
            "      \"output\": \"0x2e80d0a115d7ef67f234405512ef5694c0e6bf7a61c7788fc8c7aa0f07c5dd4b\"\n",
            "    },\n",
            "    \"getBlockMiner\": {\n",
            "      \"description\": \"Returns the miner address of the current block.\",\n",
            "      \"output\": \"0x8945A1288dc78A6D8952a92C77aEe6730B414778\"\n",
            "    }\n",
            "  }\n",
            "}\n"
          ]
        }
      ]
    },
    {
      "cell_type": "code",
      "source": [
        "data = json.loads(json_data)\n",
        "output_data = data[\"call\"][\"output\"]\n",
        "df = pd.DataFrame([output_data])\n",
        "print(df)"
      ],
      "metadata": {
        "colab": {
          "base_uri": "https://localhost:8080/"
        },
        "id": "84PFpuzidlQ_",
        "outputId": "ba14433f-83de-4338-8847-c53b9b8057a2"
      },
      "execution_count": null,
      "outputs": [
        {
          "output_type": "stream",
          "name": "stdout",
          "text": [
            "    blockTime  balance  gasPrice  difficulty  baseFee  gasLimit  \\\n",
            "0  1739633935        0         2           0        1   3000000   \n",
            "\n",
            "                                           blockHash  \\\n",
            "0  0x2e80d0a115d7ef67f234405512ef5694c0e6bf7a61c7...   \n",
            "\n",
            "                                        miner  \\\n",
            "0  0x8945A1288dc78A6D8952a92C77aEe6730B414778   \n",
            "\n",
            "                                     txOrigin  \\\n",
            "0  0x5B38Da6a701c568545dCfcB03FcB875f56beddC4   \n",
            "\n",
            "                                    msgSender  \n",
            "0  0x5B38Da6a701c568545dCfcB03FcB875f56beddC4  \n"
          ]
        }
      ]
    },
    {
      "cell_type": "code",
      "source": [
        "df.head()"
      ],
      "metadata": {
        "colab": {
          "base_uri": "https://localhost:8080/",
          "height": 101
        },
        "id": "ri5Aa934dpLy",
        "outputId": "270adb1b-29bc-4bac-eadb-266c6e1d5a05"
      },
      "execution_count": null,
      "outputs": [
        {
          "output_type": "execute_result",
          "data": {
            "text/plain": [
              "    blockTime  balance  gasPrice  difficulty  baseFee  gasLimit  \\\n",
              "0  1739633935        0         2           0        1   3000000   \n",
              "\n",
              "                                           blockHash  \\\n",
              "0  0x2e80d0a115d7ef67f234405512ef5694c0e6bf7a61c7...   \n",
              "\n",
              "                                        miner  \\\n",
              "0  0x8945A1288dc78A6D8952a92C77aEe6730B414778   \n",
              "\n",
              "                                     txOrigin  \\\n",
              "0  0x5B38Da6a701c568545dCfcB03FcB875f56beddC4   \n",
              "\n",
              "                                    msgSender  \n",
              "0  0x5B38Da6a701c568545dCfcB03FcB875f56beddC4  "
            ],
            "text/html": [
              "\n",
              "  <div id=\"df-bc58463e-1dac-445c-b74b-d2d06f30b57b\" class=\"colab-df-container\">\n",
              "    <div>\n",
              "<style scoped>\n",
              "    .dataframe tbody tr th:only-of-type {\n",
              "        vertical-align: middle;\n",
              "    }\n",
              "\n",
              "    .dataframe tbody tr th {\n",
              "        vertical-align: top;\n",
              "    }\n",
              "\n",
              "    .dataframe thead th {\n",
              "        text-align: right;\n",
              "    }\n",
              "</style>\n",
              "<table border=\"1\" class=\"dataframe\">\n",
              "  <thead>\n",
              "    <tr style=\"text-align: right;\">\n",
              "      <th></th>\n",
              "      <th>blockTime</th>\n",
              "      <th>balance</th>\n",
              "      <th>gasPrice</th>\n",
              "      <th>difficulty</th>\n",
              "      <th>baseFee</th>\n",
              "      <th>gasLimit</th>\n",
              "      <th>blockHash</th>\n",
              "      <th>miner</th>\n",
              "      <th>txOrigin</th>\n",
              "      <th>msgSender</th>\n",
              "    </tr>\n",
              "  </thead>\n",
              "  <tbody>\n",
              "    <tr>\n",
              "      <th>0</th>\n",
              "      <td>1739633935</td>\n",
              "      <td>0</td>\n",
              "      <td>2</td>\n",
              "      <td>0</td>\n",
              "      <td>1</td>\n",
              "      <td>3000000</td>\n",
              "      <td>0x2e80d0a115d7ef67f234405512ef5694c0e6bf7a61c7...</td>\n",
              "      <td>0x8945A1288dc78A6D8952a92C77aEe6730B414778</td>\n",
              "      <td>0x5B38Da6a701c568545dCfcB03FcB875f56beddC4</td>\n",
              "      <td>0x5B38Da6a701c568545dCfcB03FcB875f56beddC4</td>\n",
              "    </tr>\n",
              "  </tbody>\n",
              "</table>\n",
              "</div>\n",
              "    <div class=\"colab-df-buttons\">\n",
              "\n",
              "  <div class=\"colab-df-container\">\n",
              "    <button class=\"colab-df-convert\" onclick=\"convertToInteractive('df-bc58463e-1dac-445c-b74b-d2d06f30b57b')\"\n",
              "            title=\"Convert this dataframe to an interactive table.\"\n",
              "            style=\"display:none;\">\n",
              "\n",
              "  <svg xmlns=\"http://www.w3.org/2000/svg\" height=\"24px\" viewBox=\"0 -960 960 960\">\n",
              "    <path d=\"M120-120v-720h720v720H120Zm60-500h600v-160H180v160Zm220 220h160v-160H400v160Zm0 220h160v-160H400v160ZM180-400h160v-160H180v160Zm440 0h160v-160H620v160ZM180-180h160v-160H180v160Zm440 0h160v-160H620v160Z\"/>\n",
              "  </svg>\n",
              "    </button>\n",
              "\n",
              "  <style>\n",
              "    .colab-df-container {\n",
              "      display:flex;\n",
              "      gap: 12px;\n",
              "    }\n",
              "\n",
              "    .colab-df-convert {\n",
              "      background-color: #E8F0FE;\n",
              "      border: none;\n",
              "      border-radius: 50%;\n",
              "      cursor: pointer;\n",
              "      display: none;\n",
              "      fill: #1967D2;\n",
              "      height: 32px;\n",
              "      padding: 0 0 0 0;\n",
              "      width: 32px;\n",
              "    }\n",
              "\n",
              "    .colab-df-convert:hover {\n",
              "      background-color: #E2EBFA;\n",
              "      box-shadow: 0px 1px 2px rgba(60, 64, 67, 0.3), 0px 1px 3px 1px rgba(60, 64, 67, 0.15);\n",
              "      fill: #174EA6;\n",
              "    }\n",
              "\n",
              "    .colab-df-buttons div {\n",
              "      margin-bottom: 4px;\n",
              "    }\n",
              "\n",
              "    [theme=dark] .colab-df-convert {\n",
              "      background-color: #3B4455;\n",
              "      fill: #D2E3FC;\n",
              "    }\n",
              "\n",
              "    [theme=dark] .colab-df-convert:hover {\n",
              "      background-color: #434B5C;\n",
              "      box-shadow: 0px 1px 3px 1px rgba(0, 0, 0, 0.15);\n",
              "      filter: drop-shadow(0px 1px 2px rgba(0, 0, 0, 0.3));\n",
              "      fill: #FFFFFF;\n",
              "    }\n",
              "  </style>\n",
              "\n",
              "    <script>\n",
              "      const buttonEl =\n",
              "        document.querySelector('#df-bc58463e-1dac-445c-b74b-d2d06f30b57b button.colab-df-convert');\n",
              "      buttonEl.style.display =\n",
              "        google.colab.kernel.accessAllowed ? 'block' : 'none';\n",
              "\n",
              "      async function convertToInteractive(key) {\n",
              "        const element = document.querySelector('#df-bc58463e-1dac-445c-b74b-d2d06f30b57b');\n",
              "        const dataTable =\n",
              "          await google.colab.kernel.invokeFunction('convertToInteractive',\n",
              "                                                    [key], {});\n",
              "        if (!dataTable) return;\n",
              "\n",
              "        const docLinkHtml = 'Like what you see? Visit the ' +\n",
              "          '<a target=\"_blank\" href=https://colab.research.google.com/notebooks/data_table.ipynb>data table notebook</a>'\n",
              "          + ' to learn more about interactive tables.';\n",
              "        element.innerHTML = '';\n",
              "        dataTable['output_type'] = 'display_data';\n",
              "        await google.colab.output.renderOutput(dataTable, element);\n",
              "        const docLink = document.createElement('div');\n",
              "        docLink.innerHTML = docLinkHtml;\n",
              "        element.appendChild(docLink);\n",
              "      }\n",
              "    </script>\n",
              "  </div>\n",
              "\n",
              "\n",
              "    </div>\n",
              "  </div>\n"
            ],
            "application/vnd.google.colaboratory.intrinsic+json": {
              "type": "dataframe",
              "variable_name": "df",
              "summary": "{\n  \"name\": \"df\",\n  \"rows\": 1,\n  \"fields\": [\n    {\n      \"column\": \"blockTime\",\n      \"properties\": {\n        \"dtype\": \"number\",\n        \"std\": null,\n        \"min\": 1739633935,\n        \"max\": 1739633935,\n        \"num_unique_values\": 1,\n        \"samples\": [\n          1739633935\n        ],\n        \"semantic_type\": \"\",\n        \"description\": \"\"\n      }\n    },\n    {\n      \"column\": \"balance\",\n      \"properties\": {\n        \"dtype\": \"number\",\n        \"std\": null,\n        \"min\": 0,\n        \"max\": 0,\n        \"num_unique_values\": 1,\n        \"samples\": [\n          0\n        ],\n        \"semantic_type\": \"\",\n        \"description\": \"\"\n      }\n    },\n    {\n      \"column\": \"gasPrice\",\n      \"properties\": {\n        \"dtype\": \"number\",\n        \"std\": null,\n        \"min\": 2,\n        \"max\": 2,\n        \"num_unique_values\": 1,\n        \"samples\": [\n          2\n        ],\n        \"semantic_type\": \"\",\n        \"description\": \"\"\n      }\n    },\n    {\n      \"column\": \"difficulty\",\n      \"properties\": {\n        \"dtype\": \"number\",\n        \"std\": null,\n        \"min\": 0,\n        \"max\": 0,\n        \"num_unique_values\": 1,\n        \"samples\": [\n          0\n        ],\n        \"semantic_type\": \"\",\n        \"description\": \"\"\n      }\n    },\n    {\n      \"column\": \"baseFee\",\n      \"properties\": {\n        \"dtype\": \"number\",\n        \"std\": null,\n        \"min\": 1,\n        \"max\": 1,\n        \"num_unique_values\": 1,\n        \"samples\": [\n          1\n        ],\n        \"semantic_type\": \"\",\n        \"description\": \"\"\n      }\n    },\n    {\n      \"column\": \"gasLimit\",\n      \"properties\": {\n        \"dtype\": \"number\",\n        \"std\": null,\n        \"min\": 3000000,\n        \"max\": 3000000,\n        \"num_unique_values\": 1,\n        \"samples\": [\n          3000000\n        ],\n        \"semantic_type\": \"\",\n        \"description\": \"\"\n      }\n    },\n    {\n      \"column\": \"blockHash\",\n      \"properties\": {\n        \"dtype\": \"string\",\n        \"num_unique_values\": 1,\n        \"samples\": [\n          \"0x2e80d0a115d7ef67f234405512ef5694c0e6bf7a61c7788fc8c7aa0f07c5dd4b\"\n        ],\n        \"semantic_type\": \"\",\n        \"description\": \"\"\n      }\n    },\n    {\n      \"column\": \"miner\",\n      \"properties\": {\n        \"dtype\": \"string\",\n        \"num_unique_values\": 1,\n        \"samples\": [\n          \"0x8945A1288dc78A6D8952a92C77aEe6730B414778\"\n        ],\n        \"semantic_type\": \"\",\n        \"description\": \"\"\n      }\n    },\n    {\n      \"column\": \"txOrigin\",\n      \"properties\": {\n        \"dtype\": \"string\",\n        \"num_unique_values\": 1,\n        \"samples\": [\n          \"0x5B38Da6a701c568545dCfcB03FcB875f56beddC4\"\n        ],\n        \"semantic_type\": \"\",\n        \"description\": \"\"\n      }\n    },\n    {\n      \"column\": \"msgSender\",\n      \"properties\": {\n        \"dtype\": \"string\",\n        \"num_unique_values\": 1,\n        \"samples\": [\n          \"0x5B38Da6a701c568545dCfcB03FcB875f56beddC4\"\n        ],\n        \"semantic_type\": \"\",\n        \"description\": \"\"\n      }\n    }\n  ]\n}"
            }
          },
          "metadata": {},
          "execution_count": 18
        }
      ]
    },
    {
      "cell_type": "code",
      "source": [
        "df.info()"
      ],
      "metadata": {
        "colab": {
          "base_uri": "https://localhost:8080/"
        },
        "id": "rsB-39Yfevur",
        "outputId": "34dfb17b-4bd5-44b5-ea73-beeb52f1d061"
      },
      "execution_count": null,
      "outputs": [
        {
          "output_type": "stream",
          "name": "stdout",
          "text": [
            "<class 'pandas.core.frame.DataFrame'>\n",
            "RangeIndex: 1 entries, 0 to 0\n",
            "Data columns (total 10 columns):\n",
            " #   Column      Non-Null Count  Dtype \n",
            "---  ------      --------------  ----- \n",
            " 0   blockTime   1 non-null      int64 \n",
            " 1   balance     1 non-null      int64 \n",
            " 2   gasPrice    1 non-null      int64 \n",
            " 3   difficulty  1 non-null      int64 \n",
            " 4   baseFee     1 non-null      int64 \n",
            " 5   gasLimit    1 non-null      int64 \n",
            " 6   blockHash   1 non-null      object\n",
            " 7   miner       1 non-null      object\n",
            " 8   txOrigin    1 non-null      object\n",
            " 9   msgSender   1 non-null      object\n",
            "dtypes: int64(6), object(4)\n",
            "memory usage: 212.0+ bytes\n"
          ]
        }
      ]
    },
    {
      "cell_type": "code",
      "source": [
        "df.columns"
      ],
      "metadata": {
        "colab": {
          "base_uri": "https://localhost:8080/"
        },
        "id": "-srlm2y-e0ZG",
        "outputId": "2189793c-f4ca-4c36-ccee-9807094f4229"
      },
      "execution_count": null,
      "outputs": [
        {
          "output_type": "execute_result",
          "data": {
            "text/plain": [
              "Index(['blockTime', 'balance', 'gasPrice', 'difficulty', 'baseFee', 'gasLimit',\n",
              "       'blockHash', 'miner', 'txOrigin', 'msgSender'],\n",
              "      dtype='object')"
            ]
          },
          "metadata": {},
          "execution_count": 20
        }
      ]
    },
    {
      "cell_type": "markdown",
      "source": [
        "## Graphs\n"
      ],
      "metadata": {
        "id": "KlIcsQIZfLm1"
      }
    },
    {
      "cell_type": "markdown",
      "source": [
        "**Analysis of Blockchain Data from Remix Development Network**\n",
        "\n",
        "The generated graphs provide insights into key blockchain metrics, but it is important to highlight that these results are influenced by the fact that we are using the Remix development network, which differs from a live Ethereum mainnet or testnet environment.\n",
        "Bar Chart - Blockchain Metrics (blockTime, balance, gasPrice, difficulty, baseFee, gasLimit)\n",
        "\n",
        "  blockTime represents the timestamp of the mined block. Since we are on a local development network, the block time is nearly instantaneous.    difficulty is zero, indicating that Proof of Work (PoW) is not being used. This is expected in Ethereum’s Proof of Stake (PoS) environment or a development setup.\n",
        "  gasLimit is predefined and static in Remix, unlike mainnet where it fluctuates based on network activity.\n",
        "\n",
        "**Scatter Plot - GasPrice vs GasLimit**\n",
        "\n",
        "  The relationship between gasPrice and gasLimit does not show real-world variation because Remix does not introduce dynamic gas adjustments.\n",
        "  In a real blockchain environment, gas prices vary based on demand and network congestion, but in this case, the values remain constant.\n",
        "\n",
        "**Block Hash Distribution**\n",
        "\n",
        "  The blockHash values appear uniform because the Remix network generates blocks in a controlled and predictable manner.\n",
        "  In a real blockchain network, block hashes would show more variability due to different transaction compositions and mining conditions.\n",
        "\n",
        "**Miner Address Consistency**\n",
        "\n",
        "  The miner address remains the same, which indicates that Remix is not simulating real mining pools or validator rotation as seen in Ethereum’s PoS network.\n",
        "  On mainnet, this would vary as different validators or miners participate in block production.\n",
        "\n",
        "**Conclusion**\n",
        "\n",
        "The data visualized in these graphs highlights the controlled nature of the Remix development network. Since Remix is designed for smart contract testing, it does not reflect real-world Ethereum network conditions such as fluctuating gas prices, dynamic difficulty, or varied mining participants. For more realistic insights, deploying on a testnet like Goerli or Sepolia would provide data closer to mainnet behavior."
      ],
      "metadata": {
        "id": "Eym7ejsvgp4J"
      }
    },
    {
      "cell_type": "code",
      "source": [
        "# Definindo o estilo do gráfico\n",
        "sns.set(style=\"whitegrid\")\n",
        "\n",
        "# Criando o gráfico de barras para valores numéricos\n",
        "numeric_columns = ['blockTime', 'balance', 'gasPrice', 'difficulty', 'baseFee', 'gasLimit']\n",
        "df_numeric = df[numeric_columns]\n",
        "\n",
        "# Plotando os gráficos\n",
        "plt.figure(figsize=(12, 8))\n",
        "\n",
        "# Gráfico de barras - Valores numéricos\n",
        "plt.subplot(2, 2, 1)\n",
        "df_numeric.plot(kind='bar', ax=plt.gca(), legend=False)\n",
        "plt.title(\"Valores numéricos - Blockchain\")\n",
        "plt.xlabel(\"Índice\")\n",
        "plt.ylabel(\"Valor\")\n",
        "\n",
        "# Gráfico de dispersão para análise entre gasPrice e gasLimit\n",
        "plt.subplot(2, 2, 2)\n",
        "sns.scatterplot(x=df['gasPrice'], y=df['gasLimit'], color='blue')\n",
        "plt.title(\"GasPrice vs GasLimit\")\n",
        "plt.xlabel(\"GasPrice\")\n",
        "plt.ylabel(\"GasLimit\")\n",
        "\n",
        "# Gráfico de barras para outros dados como texto (ex.: miner, txOrigin)\n",
        "plt.subplot(2, 2, 3)\n",
        "df[['miner', 'txOrigin', 'msgSender']].nunique().plot(kind='bar', color='orange', ax=plt.gca())\n",
        "plt.title(\"Número de ocorrências de endereços\")\n",
        "plt.xlabel(\"Endereço\")\n",
        "plt.ylabel(\"Contagem de endereços únicos\")\n",
        "\n",
        "plt.tight_layout()\n",
        "plt.show()\n"
      ],
      "metadata": {
        "colab": {
          "base_uri": "https://localhost:8080/",
          "height": 801
        },
        "id": "FhYUIz39fOcs",
        "outputId": "54d2cfdf-473b-4c57-d7d0-a3b04689cea9"
      },
      "execution_count": null,
      "outputs": [
        {
          "output_type": "display_data",
          "data": {
            "text/plain": [
              "<Figure size 1200x800 with 3 Axes>"
            ],
            "image/png": "[encoded data removed]"
          },
          "metadata": {}
        }
      ]
    },
    {
      "cell_type": "markdown",
      "source": [
        "## Models V1 (MVP)"
      ],
      "metadata": {
        "id": "AZAAkTQnh82d"
      }
    },
    {
      "cell_type": "markdown",
      "source": [
        "### Linear regression GAS Prediction"
      ],
      "metadata": {
        "id": "0rhLSbg3jD-p"
      }
    },
    {
      "cell_type": "code",
      "source": [
        "from sklearn.linear_model import LinearRegression\n",
        "\n",
        "df['blockTimeDiff'] = df['blockTime'].diff().fillna(0)\n",
        "X = df[['gasLimit', 'baseFee', 'difficulty']]\n",
        "y = df['gasPrice']\n",
        "\n",
        "model = LinearRegression()\n",
        "model.fit(X, y)\n",
        "\n",
        "print(\"Modelo treinado com sucesso!\")\n",
        "\n"
      ],
      "metadata": {
        "colab": {
          "base_uri": "https://localhost:8080/"
        },
        "id": "wwKq53QriABg",
        "outputId": "395219e5-462c-431b-cb92-0dfbf90efadb"
      },
      "execution_count": null,
      "outputs": [
        {
          "output_type": "stream",
          "name": "stdout",
          "text": [
            "Modelo treinado com sucesso!\n"
          ]
        }
      ]
    },
    {
      "cell_type": "code",
      "source": [
        "# Exibir coeficientes e intercepto\n",
        "print(\"Modelo treinado com sucesso!\")\n",
        "print(\"Coeficientes:\", model.coef_)\n",
        "print(\"Intercepto:\", model.intercept_)\n",
        "\n",
        "# Interpretar a importância de cada variável\n",
        "features = X.columns\n",
        "for feature, coef in zip(features, model.coef_):\n",
        "    print(f\"A cada aumento de 1 unidade em {feature}, o gasPrice muda em {coef:.4f} unidades.\")\n"
      ],
      "metadata": {
        "colab": {
          "base_uri": "https://localhost:8080/"
        },
        "id": "0LfTbTtSi1vi",
        "outputId": "113c6b63-9340-430e-c678-3db19d82c6e5"
      },
      "execution_count": null,
      "outputs": [
        {
          "output_type": "stream",
          "name": "stdout",
          "text": [
            "Modelo treinado com sucesso!\n",
            "Coeficientes: [0. 0. 0.]\n",
            "Intercepto: 2.0\n",
            "A cada aumento de 1 unidade em gasLimit, o gasPrice muda em 0.0000 unidades.\n",
            "A cada aumento de 1 unidade em baseFee, o gasPrice muda em 0.0000 unidades.\n",
            "A cada aumento de 1 unidade em difficulty, o gasPrice muda em 0.0000 unidades.\n"
          ]
        }
      ]
    },
    {
      "cell_type": "markdown",
      "source": [
        "### Network Congestion Classification (Random Forest)"
      ],
      "metadata": {
        "id": "a3gZMv5GjIC_"
      }
    },
    {
      "cell_type": "code",
      "source": [
        "import pandas as pd\n",
        "from sklearn.ensemble import RandomForestClassifier\n",
        "from sklearn.metrics import accuracy_score, classification_report\n",
        "\n",
        "# Adicionar mais dados ao DataFrame ou apenas testar com o seu exemplo\n",
        "df['congestion'] = pd.cut(df['gasPrice'], bins=[0, 20, 50, 200], labels=[0, 1, 2])\n",
        "\n",
        "X = df[['gasPrice', 'gasLimit', 'baseFee']]\n",
        "y = df['congestion']\n",
        "\n",
        "# Verifique se você tem mais de uma amostra. Caso contrário, use todos os dados para treino.\n",
        "if len(df) > 1:\n",
        "    from sklearn.model_selection import train_test_split\n",
        "    X_train, X_test, y_train, y_test = train_test_split(X, y, test_size=0.2, random_state=42)\n",
        "else:\n",
        "    X_train = X\n",
        "    y_train = y\n",
        "    X_test = X\n",
        "    y_test = y\n",
        "\n",
        "model = RandomForestClassifier(n_estimators=100)\n",
        "model.fit(X_train, y_train)\n",
        "\n",
        "# Como você tem apenas uma amostra, o modelo pode não ser significativo, mas você pode fazer a previsão.\n",
        "predictions = model.predict(X_test)\n",
        "print(\"Accuracy:\", accuracy_score(y_test, predictions))\n",
        "print(classification_report(y_test, predictions))\n"
      ],
      "metadata": {
        "colab": {
          "base_uri": "https://localhost:8080/"
        },
        "id": "t5STwM8gjKeS",
        "outputId": "c67eed88-505e-41bc-a227-3b0194418315"
      },
      "execution_count": null,
      "outputs": [
        {
          "output_type": "stream",
          "name": "stdout",
          "text": [
            "Accuracy: 1.0\n",
            "              precision    recall  f1-score   support\n",
            "\n",
            "           0       1.00      1.00      1.00         1\n",
            "\n",
            "    accuracy                           1.00         1\n",
            "   macro avg       1.00      1.00      1.00         1\n",
            "weighted avg       1.00      1.00      1.00         1\n",
            "\n"
          ]
        }
      ]
    },
    {
      "cell_type": "markdown",
      "source": [
        "### Block Mining Time Prediction (Linear Regression)"
      ],
      "metadata": {
        "id": "0BOBsEaQkfUJ"
      }
    },
    {
      "cell_type": "code",
      "source": [
        "import pandas as pd\n",
        "import numpy as np\n",
        "from sklearn.linear_model import LinearRegression\n",
        "from sklearn.metrics import mean_squared_error\n",
        "\n",
        "# Supondo que você tenha o DataFrame df\n",
        "# Criando a coluna blockTimeDiff com a diferença dos tempos\n",
        "df['blockTimeDiff'] = df['blockTime'].diff().fillna(0)\n",
        "\n",
        "# Selecionando as variáveis independentes (X) e dependente (y)\n",
        "X = df[['gasPrice', 'difficulty', 'gasLimit']]\n",
        "y = df['blockTimeDiff']\n",
        "\n",
        "# Treinando o modelo de regressão linear com todos os dados disponíveis\n",
        "model = LinearRegression()\n",
        "model.fit(X, y)\n",
        "\n",
        "# Realizando a predição\n",
        "predictions = model.predict(X)\n",
        "\n",
        "# Calculando o erro quadrático médio (Mean Squared Error)\n",
        "mse = mean_squared_error(y, predictions)\n",
        "print(f\"Mean Squared Error: {mse}\")\n"
      ],
      "metadata": {
        "colab": {
          "base_uri": "https://localhost:8080/"
        },
        "id": "-Z_O2RMLkgna",
        "outputId": "a240db65-0db3-4493-b3ec-63f5f4037ecc"
      },
      "execution_count": null,
      "outputs": [
        {
          "output_type": "stream",
          "name": "stdout",
          "text": [
            "Mean Squared Error: 0.0\n"
          ]
        }
      ]
    },
    {
      "cell_type": "markdown",
      "source": [
        "### Anomaly Detection in Ethereum Transactions (Isolation Forest)"
      ],
      "metadata": {
        "id": "VS43tolxlC0C"
      }
    },
    {
      "cell_type": "code",
      "source": [
        "sim_data = {\n",
        "    'blockTime': np.random.randint(1700000000, 1750000000, size=100),\n",
        "    'balance': np.random.randint(0, 1000, size=100),\n",
        "    'gasPrice': np.random.randint(10, 100, size=100),\n",
        "    'difficulty': np.random.randint(0, 10, size=100),\n",
        "    'baseFee': np.random.randint(1, 10, size=100),\n",
        "    'gasLimit': np.random.randint(1000000, 10000000, size=100),\n",
        "    'blockHash': ['0x' + ''.join(np.random.choice(list('0123456789abcdef'), size=64)) for _ in range(100)],  # Hashs aleatórios\n",
        "    'miner': ['0x' + ''.join(np.random.choice(list('0123456789abcdef'), size=40)) for _ in range(100)],  # Mineradores aleatórios\n",
        "    'txOrigin': ['0x' + ''.join(np.random.choice(list('0123456789abcdef'), size=40)) for _ in range(100)],  # Origem de transação aleatória\n",
        "    'msgSender': ['0x' + ''.join(np.random.choice(list('0123456789abcdef'), size=40)) for _ in range(100)]  # Envio de mensagem aleatório\n",
        "}\n",
        "\n",
        "df_sim = pd.DataFrame(sim_data)\n",
        "\n",
        "df_sim['blockTimeDiff'] = df_sim['blockTime'].diff().fillna(0)\n",
        "df_sim['congestion'] = pd.cut(df_sim['gasPrice'], bins=[0, 20, 50, 200], labels=[0, 1, 2])\n",
        "\n",
        "print(df_sim.head())\n"
      ],
      "metadata": {
        "colab": {
          "base_uri": "https://localhost:8080/"
        },
        "id": "VgsOPee-lJSE",
        "outputId": "83c01f1f-3d82-45bb-d21d-ef87ee1e26f2"
      },
      "execution_count": null,
      "outputs": [
        {
          "output_type": "stream",
          "name": "stdout",
          "text": [
            "    blockTime  balance  gasPrice  difficulty  baseFee  gasLimit  \\\n",
            "0  1736066527      306        85           3        9   7242316   \n",
            "1  1737188143      449        30           2        9   6172967   \n",
            "2  1722941001      216        73           4        3   8467713   \n",
            "3  1714919587      902        87           8        1   9994619   \n",
            "4  1710136750      474        39           3        6   5077932   \n",
            "\n",
            "                                           blockHash  \\\n",
            "0  0x6b51de3e1f1d1ecb6a2ee99875c8bcb53512de13f9f9...   \n",
            "1  0xdd0f0828dc927b4b059c868082055f2036e29889c910...   \n",
            "2  0x536e2fa5a509816c5a86bb7b16c5eb4f536da67f7ad0...   \n",
            "3  0x0f3b1b4985cf9365a50b63baf16075472bc4393faa8e...   \n",
            "4  0x062c29c754a5e3f1ed05ed1cc2c42edf232b9f96c894...   \n",
            "\n",
            "                                        miner  \\\n",
            "0  0x56a70d29ae8beff1b308e6098019da30aeaafa04   \n",
            "1  0xf76df1d966186eb325da5dfb88c8ab7153ecd34a   \n",
            "2  0x520192196ce84983ead08e7a9fce5d77ee456709   \n",
            "3  0xd8a719dee2ae45b7a01fe54ae0d1b7fd637101ef   \n",
            "4  0x48253f1265e31273fa0c8dc99d62b2d245c17dcd   \n",
            "\n",
            "                                     txOrigin  \\\n",
            "0  0x4007109f54846417ed582d19c75fe8563334abf5   \n",
            "1  0xe49994ec8f85b0f4d8adb7e139e0bb42a0e8a68c   \n",
            "2  0xf0da3379e0420e7b75d5aefe4eaf8250f0bfb81c   \n",
            "3  0x204c95609b2a555d61e848de8df442f8d032138c   \n",
            "4  0xae1d28a67acd624aa84633ef73696235d264ec3d   \n",
            "\n",
            "                                    msgSender  blockTimeDiff congestion  \n",
            "0  0xdebf5de052cc546c5e193679940cc08add3cded2            0.0          2  \n",
            "1  0xfda84f916776dd28ddc1b1018cdf8143cb6acf3c      1121616.0          1  \n",
            "2  0xbd96c5944f2cc214ba8a86cad30e74213f4873ff    -14247142.0          2  \n",
            "3  0x2a95f5b52641ae2e9e03ae5b3ec54a088a0d4e77     -8021414.0          2  \n",
            "4  0x53bbed96e81fe20b362cb56e34e83546d1607eb5     -4782837.0          1  \n"
          ]
        }
      ]
    }
  ]
}